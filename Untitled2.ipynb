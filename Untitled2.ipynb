{
 "cells": [
  {
   "cell_type": "code",
   "execution_count": 2,
   "id": "1ea45570",
   "metadata": {},
   "outputs": [
    {
     "name": "stdout",
     "output_type": "stream",
     "text": [
      "[1 1 1 0 1 1 0]\n",
      "[0 1 1 1 0 1 0]\n",
      "Accuracy:  0.5714285714285714\n",
      "Accuracy:  <sklearn.metrics._plot.roc_curve.RocCurveDisplay object at 0x7ff98d892828>\n",
      "classification_report: \n",
      "              precision    recall  f1-score   support\n",
      "\n",
      "           0       0.33      0.50      0.40         2\n",
      "           1       0.75      0.60      0.67         5\n",
      "\n",
      "    accuracy                           0.57         7\n",
      "   macro avg       0.54      0.55      0.53         7\n",
      "weighted avg       0.63      0.57      0.59         7\n",
      "\n"
     ]
    },
    {
     "data": {
      "image/png": "[encoded data removed]",
      "text/plain": [
       "<Figure size 432x288 with 1 Axes>"
      ]
     },
     "metadata": {
      "needs_background": "light"
     },
     "output_type": "display_data"
    }
   ],
   "source": [
    "#naive bayes\n",
    "import pandas as pd\n",
    "import numpy as np\n",
    "from sklearn import preprocessing\n",
    "from sklearn.model_selection import train_test_split\n",
    "from sklearn.naive_bayes import MultinomialNB\n",
    "from sklearn import metrics\n",
    "from sklearn.metrics import classification_report\n",
    "ds=pd.read_csv(\"covid.csv\")\n",
    "ds.head()\n",
    "le=preprocessing.LabelEncoder()\n",
    "pce=le.fit_transform(ds['pc'].values)\n",
    "wbce=le.fit_transform(ds['wbc'].values)\n",
    "mce=le.fit_transform(ds['mc'].values)\n",
    "aste=le.fit_transform(ds['ast'].values)\n",
    "bce=le.fit_transform(ds['bc'].values)\n",
    "idhe=le.fit_transform(ds['ldh'].values)\n",
    "y=le.fit_transform(ds['diagnosis'].values)\n",
    "x=np.array(list(zip(pce,wbce,mce,aste,bce,idhe)))\n",
    "x_train,x_test,y_train,y_test=train_test_split(x,y)\n",
    "m=MultinomialNB().fit(x_train,y_train)\n",
    "y_pred=m.predict(x_test)\n",
    "print(y_test)\n",
    "print(y_pred)\n",
    "print(\"Accuracy: \",metrics.accuracy_score(y_test,y_pred))\n",
    "print(\"Accuracy: \",metrics.plot_roc_curve(m,x_test,y_test))\n",
    "print(\"classification_report: \")\n",
    "print(classification_report(y_test,y_pred))"
   ]
  },
  {
   "cell_type": "code",
   "execution_count": 52,
   "id": "efd042a4",
   "metadata": {},
   "outputs": [
    {
     "name": "stdout",
     "output_type": "stream",
     "text": [
      "                    feature  importance\n",
      "1                   Glucose    0.246460\n",
      "5                       BMI    0.173583\n",
      "7                       Age    0.143116\n",
      "6  DiabetesPedigreeFunction    0.121075\n",
      "0               Pregnancies    0.093712\n",
      "2             BloodPressure    0.084308\n",
      "4                   Insulin    0.071972\n",
      "3             SkinThickness    0.065773\n",
      "Accuracy :  0.7708333333333334\n",
      "classification_report : \n",
      "              precision    recall  f1-score   support\n",
      "\n",
      "           0       0.79      0.88      0.83       123\n",
      "           1       0.73      0.58      0.65        69\n",
      "\n",
      "    accuracy                           0.77       192\n",
      "   macro avg       0.76      0.73      0.74       192\n",
      "weighted avg       0.77      0.77      0.76       192\n",
      "\n",
      "Accuracy DecisionTreeClassifier:  0.7447916666666666\n"
     ]
    }
   ],
   "source": [
    "#randomforest\n",
    "import pandas as pd\n",
    "from sklearn.preprocessing import StandardScaler\n",
    "from sklearn.model_selection import train_test_split\n",
    "from sklearn.ensemble import RandomForestClassifier\n",
    "from sklearn import metrics\n",
    "from sklearn.metrics import classification_report\n",
    "from sklearn.tree import DecisionTreeClassifier\n",
    "ds=pd.read_csv(\"pima.csv\")\n",
    "x=ds.drop(\"Outcome\",axis=1)\n",
    "y=ds[\"Outcome\"]\n",
    "xs=StandardScaler().fit(x).transform(x)\n",
    "x_train,x_test,y_train,y_test=train_test_split(xs,y)\n",
    "r=RandomForestClassifier(n_estimators=100)\n",
    "rs=r.fit(x_train,y_train)\n",
    "y_pred=rs.predict(x_test)\n",
    "feature_importance=pd.DataFrame({\"feature\":list(x.columns),\"importance\":rs.feature_importances_}).sort_values(\"importance\",ascending=False)\n",
    "print(feature_importance)\n",
    "print(\"Accuracy : \",metrics.accuracy_score(y_test,y_pred))\n",
    "print(\"classification_report : \")\n",
    "print(classification_report(y_test,y_pred))\n",
    "d=DecisionTreeClassifier()\n",
    "ds=d.fit(x_train,y_train)\n",
    "y_pred1=ds.predict(x_test)\n",
    "#print(y_pred1)\n",
    "print(\"Accuracy DecisionTreeClassifier: \",metrics.accuracy_score(y_test,y_pred1))"
   ]
  },
  {
   "cell_type": "code",
   "execution_count": 22,
   "id": "1e28db86",
   "metadata": {
    "scrolled": true
   },
   "outputs": [
    {
     "name": "stdout",
     "output_type": "stream",
     "text": [
      "[1 2 2 3 3 3]\n",
      "Accuracy :  0.9814814814814815\n",
      "Confusion Matrix:\n",
      "[[14  0  0  0  0]\n",
      " [ 0 17  0  0  0]\n",
      " [ 0  0  8  1  0]\n",
      " [ 0  0  0  3  0]\n",
      " [ 0  0  0  0 11]]\n",
      "classification_report:\n",
      "              precision    recall  f1-score   support\n",
      "\n",
      "           1       1.00      1.00      1.00        14\n",
      "           2       1.00      1.00      1.00        17\n",
      "           3       1.00      0.89      0.94         9\n",
      "           5       0.75      1.00      0.86         3\n",
      "           7       1.00      1.00      1.00        11\n",
      "\n",
      "    accuracy                           0.98        54\n",
      "   macro avg       0.95      0.98      0.96        54\n",
      "weighted avg       0.99      0.98      0.98        54\n",
      "\n",
      "Accuracy :  0.9074074074074074\n",
      "Accuracy :  0.7962962962962963\n",
      "Accuracy :  0.5370370370370371\n"
     ]
    }
   ],
   "source": [
    "#SVM\n",
    "import pandas as pd\n",
    "ds=pd.read_csv(\"glass.csv\")\n",
    "x=ds.drop(\"Type\",axis=1)\n",
    "y=ds[\"Type\"]\n",
    "from sklearn import svm\n",
    "from sklearn.svm import SVC\n",
    "from sklearn.model_selection import train_test_split\n",
    "from sklearn.metrics import accuracy_score as a\n",
    "from sklearn.metrics import classification_report as cr\n",
    "from sklearn.metrics import confusion_matrix as cm\n",
    "x_train,x_test,y_train,y_test=train_test_split(x,y)\n",
    "model=SVC(kernel=\"linear\")\n",
    "model1=SVC(kernel=\"poly\")\n",
    "model2=SVC(kernel=\"rbf\")\n",
    "model3=SVC(kernel=\"sigmoid\")\n",
    "model.fit(x_train,y_train)\n",
    "model1.fit(x_train,y_train)\n",
    "model2.fit(x_train,y_train)\n",
    "model3.fit(x_train,y_train)\n",
    "#print(model.support_vectors_)\n",
    "print(model.n_support_)\n",
    "y_pred=model.predict(x_test)\n",
    "print(\"Accuracy : \",a(y_test,y_pred))\n",
    "print(\"Confusion Matrix:\")\n",
    "print(cm(y_test,y_pred))\n",
    "print(\"classification_report:\")\n",
    "print(cr(y_test,y_pred))\n",
    "y_pred=model1.predict(x_test)\n",
    "print(\"Accuracy : \",a(y_test,y_pred))\n",
    "y_pred=model2.predict(x_test)\n",
    "print(\"Accuracy : \",a(y_test,y_pred))\n",
    "y_pred=model3.predict(x_test)\n",
    "print(\"Accuracy : \",a(y_test,y_pred))"
   ]
  },
  {
   "cell_type": "code",
   "execution_count": 30,
   "id": "0a3c3ea9",
   "metadata": {},
   "outputs": [
    {
     "name": "stdout",
     "output_type": "stream",
     "text": [
      "[72.9624454132999, 22.850761786701725, 3.6689218892828612, 0.5178709107154993]\n"
     ]
    },
    {
     "data": {
      "image/png": "[encoded data removed]",
      "text/plain": [
       "<Figure size 576x288 with 1 Axes>"
      ]
     },
     "metadata": {
      "needs_background": "light"
     },
     "output_type": "display_data"
    },
    {
     "data": {
      "image/png": "[encoded data removed]",
      "text/plain": [
       "<Figure size 474.375x432 with 1 Axes>"
      ]
     },
     "metadata": {
      "needs_background": "light"
     },
     "output_type": "display_data"
    }
   ],
   "source": [
    "#PCA\n",
    "import pandas as pd\n",
    "from sklearn.preprocessing import StandardScaler\n",
    "import numpy as np\n",
    "import seaborn as sns\n",
    "import matplotlib.pyplot as plt\n",
    "ds=pd.read_csv(\"iris.csv\")\n",
    "x=ds.drop(\"species\",axis=1)\n",
    "y=ds[\"species\"]\n",
    "xs=StandardScaler().fit_transform(x)\n",
    "features=xs.T\n",
    "cov_matrix=np.cov(features)\n",
    "values,vectors=np.linalg.eig(cov_matrix)\n",
    "experianced_var=[]\n",
    "for i in range(len(values)):\n",
    "    experianced_var.append((values[i]/np.sum(values))*100)\n",
    "print(experianced_var)\n",
    "plt.figure(figsize=(8,4))\n",
    "plt.bar(range(4),experianced_var,alpha=0.6)\n",
    "plt.xlabel(\"per\")\n",
    "plt.ylabel(\"dimensions\")\n",
    "projected1=xs.dot(vectors.T[0])\n",
    "projected2=xs.dot(vectors.T[1])\n",
    "res=pd.DataFrame(projected1,columns=[\"PC1\"])\n",
    "res[\"PC2\"]=projected2\n",
    "res[\"Y\"]=y\n",
    "sns.FacetGrid(res,hue=\"Y\",height=6).map(plt.scatter,'PC1','PC2').add_legend()\n",
    "plt.show()"
   ]
  },
  {
   "cell_type": "code",
   "execution_count": 21,
   "id": "e718dca1",
   "metadata": {},
   "outputs": [
    {
     "name": "stdout",
     "output_type": "stream",
     "text": [
      "1.6363540668584833\n",
      "3.40082910158675\n",
      "2.3668255866439227\n",
      "[0.0, 0.0, 1.0, 1.0, 1.0, 1.0, 1.0, 0.0, 1.0, 1.0, 1.0, 0.0, 0.0, 0.0, 1.0, 0.0, 1.0, 1.0, 0.0, 1.0, 1.0, 0.0, 1.0, 1.0, 0.0] [0 0 1 1 1 1 0 0 1 1 1 0 0 1 1 0 1 1 0 0 1 0 0 1 0]\n",
      "Accuracy :  0.84\n"
     ]
    }
   ],
   "source": [
    "#logistic regression\n",
    "import pandas as pd\n",
    "import numpy as np\n",
    "from sklearn.preprocessing import StandardScaler\n",
    "from sklearn.model_selection import train_test_split\n",
    "from sklearn.metrics import accuracy_score as a\n",
    "from sklearn.metrics import classification_report as cr\n",
    "from sklearn.metrics import confusion_matrix as cm\n",
    "from sklearn.model_selection import KFold\n",
    "cl=[\"x1\",\"x2\",\"k\"]\n",
    "ds=pd.read_csv(\"stduni.csv\",names=cl)\n",
    "x=ds.drop(\"k\",axis=1).values\n",
    "y=ds[\"k\"].values\n",
    "xs=preprocessing.scale(x)\n",
    "kf=KFold(n_splits=5)\n",
    "for train_index,test_index in kf.split(xs):\n",
    "    x_train,x_test,y_train,y_test=train_test_split(xs,y)\n",
    "    x1=x_train[:,0]\n",
    "    x2=x_train[:,1]\n",
    "    b0=0.0\n",
    "    b1=0.0\n",
    "    b2=0.0\n",
    "    epoch=10000\n",
    "    alpha=0.001\n",
    "    while epoch>0: \n",
    "        for i in range(len(x_train)):\n",
    "            prediction=1/(1+np.exp(-(b0+b1*x1[i]+b2*x2[i])))\n",
    "            b0=b0+alpha*(y_train[i]-prediction)*prediction*(1-prediction)*1.0\n",
    "            b1=b1+alpha*(y_train[i]-prediction)*prediction*(1-prediction)*x1[i]\n",
    "            b2=b2+alpha*(y_train[i]-prediction)*prediction*(1-prediction)*x2[i]\n",
    "        epoch-=1\n",
    "print(b0)\n",
    "print(b1)\n",
    "print(b2)\n",
    "x3=x_test[:,0]\n",
    "x4=x_test[:,1]\n",
    "final_pred=[]\n",
    "ypred=[0]*len(y_test)\n",
    "for i in range(len(y_test)):\n",
    "    ypred[i]=np.round(1/(1+np.exp(-(b0+b1*x3[i]+b2*x4[i]))))\n",
    "    final_pred.append(np.ceil(ypred[i]))\n",
    "print(final_pred,y_test)\n",
    "print(\"Accuracy : \",accuracy_score(y_test,final_pred))"
   ]
  },
  {
   "cell_type": "code",
   "execution_count": null,
   "id": "c30db20c",
   "metadata": {},
   "outputs": [],
   "source": []
  }
 ],
 "metadata": {
  "kernelspec": {
   "display_name": "Python 3",
   "language": "python",
   "name": "python3"
  },
  "language_info": {
   "codemirror_mode": {
    "name": "ipython",
    "version": 3
   },
   "file_extension": ".py",
   "mimetype": "text/x-python",
   "name": "python",
   "nbconvert_exporter": "python",
   "pygments_lexer": "ipython3",
   "version": "3.6.9"
  }
 },
 "nbformat": 4,
 "nbformat_minor": 5
}
